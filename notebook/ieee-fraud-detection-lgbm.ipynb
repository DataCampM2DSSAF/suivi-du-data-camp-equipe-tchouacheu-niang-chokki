{
 "cells": [
  {
   "cell_type": "markdown",
   "metadata": {},
   "source": [
    "<h1 align=\"center\" style=\"color:#6699ff\"> DataCamp IEEE Fraud Detection </h1>"
   ]
  },
  {
   "cell_type": "markdown",
   "metadata": {},
   "source": [
    "<img src=\"https://github.com/DataCampM2DSSAF/suivi-du-data-camp-equipe-tchouacheu-niang-chokki/blob/master/img/credit-card-fraud-detection.png?raw=true\" width=\"800\" align=\"center\">"
   ]
  },
  {
   "cell_type": "markdown",
   "metadata": {},
   "source": [
    "#  <a style=\"color:#6699ff\"> Team </a>\n",
    "- <a style=\"color:#6699ff\">Mohamed NIANG </a>\n",
    "- <a style=\"color:#6699ff\">Fernanda Tchouacheu </a>\n",
    "- <a style=\"color:#6699ff\">Hypolite Chokki </a>"
   ]
  },
  {
   "cell_type": "markdown",
   "metadata": {},
   "source": [
    "# <a style=\"color:#6699ff\">  Table of Contents</a> \n",
    "\n",
    "<a style=\"color:#6699ff\"> I. Reduce Memory Usage for Big Data</a>\n",
    "\n",
    "<a style=\"color:#6699ff\"> II. Load Data</a>\n",
    "\n",
    "<a style=\"color:#6699ff\"> III. Run LGBM Classifier with Cross Validation</a>"
   ]
  },
  {
   "cell_type": "markdown",
   "metadata": {},
   "source": [
    "**Import package**"
   ]
  },
  {
   "cell_type": "code",
   "execution_count": 1,
   "metadata": {
    "_cell_guid": "b1076dfc-b9ad-4769-8c92-a6c4dae69d19",
    "_uuid": "8f2839f25d086af736a60e9eeb907d3b93b6e0e5"
   },
   "outputs": [
    {
     "name": "stdout",
     "output_type": "stream",
     "text": [
      "['remove_features.pkl', 'sample_submission.csv', 'test_df.pkl', 'train_df.pkl']\n"
     ]
    }
   ],
   "source": [
    "# General imports\n",
    "import numpy as np\n",
    "import pandas as pd\n",
    "import os, sys, gc, warnings, random, datetime\n",
    "\n",
    "import seaborn as sns\n",
    "import matplotlib.pyplot as plt\n",
    "import matplotlib.gridspec as gridspec\n",
    "%matplotlib inline\n",
    "\n",
    "from sklearn import metrics\n",
    "from sklearn.model_selection import train_test_split, KFold, GroupKFold\n",
    "from sklearn.preprocessing import LabelEncoder\n",
    "\n",
    "import lightgbm as lgb\n",
    "from tqdm import tqdm\n",
    "\n",
    "import math\n",
    "warnings.filterwarnings('ignore')\n",
    "\n",
    "os.chdir('/kaggle/input/ieeefewithpreprocessing') # Set working directory\n",
    "print(os.listdir('/kaggle/input/ieeefewithpreprocessing'))"
   ]
  },
  {
   "cell_type": "markdown",
   "metadata": {},
   "source": [
    "# <a style=\"color:#6699ff\"> I. Reduce Memory Usage for Big Data</a>"
   ]
  },
  {
   "cell_type": "code",
   "execution_count": 2,
   "metadata": {},
   "outputs": [],
   "source": [
    "# Helpers\n",
    "\n",
    "# Seeder\n",
    "# :seed to make all processes deterministic     # type: int\n",
    "def seed_everything(seed=0):\n",
    "    random.seed(seed)\n",
    "    os.environ['PYTHONHASHSEED'] = str(seed)\n",
    "    np.random.seed(seed)\n",
    "    \n",
    "# Memory Reducer\n",
    "# :df pandas dataframe to reduce size             # type: pd.DataFrame()\n",
    "# :verbose                                        # type: bool\n",
    "def reduce_mem_usage(df, verbose=True):\n",
    "    numerics = ['int16', 'int32', 'int64', 'float16', 'float32', 'float64']\n",
    "    start_mem = df.memory_usage().sum() / 1024**2    \n",
    "    for col in df.columns:\n",
    "        col_type = df[col].dtypes\n",
    "        if col_type in numerics:\n",
    "            c_min = df[col].min()\n",
    "            c_max = df[col].max()\n",
    "            if str(col_type)[:3] == 'int':\n",
    "                if c_min > np.iinfo(np.int8).min and c_max < np.iinfo(np.int8).max:\n",
    "                    df[col] = df[col].astype(np.int8)\n",
    "                elif c_min > np.iinfo(np.int16).min and c_max < np.iinfo(np.int16).max:\n",
    "                    df[col] = df[col].astype(np.int16)\n",
    "                elif c_min > np.iinfo(np.int32).min and c_max < np.iinfo(np.int32).max:\n",
    "                    df[col] = df[col].astype(np.int32)\n",
    "                elif c_min > np.iinfo(np.int64).min and c_max < np.iinfo(np.int64).max:\n",
    "                    df[col] = df[col].astype(np.int64)  \n",
    "            else:\n",
    "                if c_min > np.finfo(np.float16).min and c_max < np.finfo(np.float16).max:\n",
    "                    df[col] = df[col].astype(np.float16)\n",
    "                elif c_min > np.finfo(np.float32).min and c_max < np.finfo(np.float32).max:\n",
    "                    df[col] = df[col].astype(np.float32)\n",
    "                else:\n",
    "                    df[col] = df[col].astype(np.float64)    \n",
    "    end_mem = df.memory_usage().sum() / 1024**2\n",
    "    if verbose: print('Mem. usage decreased to {:5.2f} Mb ({:.1f}% reduction)'.format(end_mem, 100 * (start_mem - end_mem) / start_mem))\n",
    "    return df"
   ]
  },
  {
   "cell_type": "markdown",
   "metadata": {},
   "source": [
    "# <a style=\"color:#6699ff\"> II. Load Data</a>"
   ]
  },
  {
   "cell_type": "code",
   "execution_count": 3,
   "metadata": {},
   "outputs": [
    {
     "name": "stdout",
     "output_type": "stream",
     "text": [
      "Mem. usage decreased to 1278.41 Mb (41.3% reduction)\n",
      "Mem. usage decreased to 1104.71 Mb (41.1% reduction)\n",
      "Load Data\n",
      "Shape control: (590540, 791) (506691, 791)\n"
     ]
    }
   ],
   "source": [
    "# Data Load\n",
    "\n",
    "train_df = reduce_mem_usage(pd.read_pickle('train_df.pkl'))\n",
    "test_df = reduce_mem_usage(pd.read_pickle('test_df.pkl'))\n",
    "\n",
    "remove_features = pd.read_pickle('remove_features.pkl')\n",
    "remove_features = list(remove_features['features_to_remove'].values)\n",
    "\n",
    "print('Load Data')\n",
    "print('Shape control:', train_df.shape, test_df.shape)"
   ]
  },
  {
   "cell_type": "markdown",
   "metadata": {},
   "source": [
    "# <a style=\"color:#6699ff\"> III. Run LGBM Classifier with Cross Validation</a>"
   ]
  },
  {
   "cell_type": "code",
   "execution_count": 4,
   "metadata": {},
   "outputs": [],
   "source": [
    "# Vars\n",
    "SEED = 42\n",
    "seed_everything(SEED)\n",
    "target = 'isFraud'\n",
    "N_SPLITS = 5\n",
    "START_DATE = datetime.datetime.strptime('2017-11-30', '%Y-%m-%d')"
   ]
  },
  {
   "cell_type": "code",
   "execution_count": 5,
   "metadata": {},
   "outputs": [],
   "source": [
    "# Model params\n",
    "lgb_params = {\n",
    "                    'objective':'binary',\n",
    "                    'boosting_type':'gbdt',\n",
    "                    'metric':'auc',\n",
    "                    'n_jobs':-1,\n",
    "                    'learning_rate':0.01,\n",
    "                    'num_leaves': 2**8,\n",
    "                    'max_depth':-1,\n",
    "                    'tree_learner':'serial',\n",
    "                    'colsample_bytree': 0.7,\n",
    "                    'subsample_freq':1,\n",
    "                    'subsample':0.7,\n",
    "                    'n_estimators':20000,\n",
    "                    'max_bin':255,\n",
    "                    'verbose':-1,\n",
    "                    'seed': SEED,\n",
    "                    'early_stopping_rounds':100, \n",
    "                } "
   ]
  },
  {
   "cell_type": "code",
   "execution_count": 6,
   "metadata": {},
   "outputs": [],
   "source": [
    "# Final features list\n",
    "features_columns = [col for col in list(train_df) if col not in remove_features]"
   ]
  },
  {
   "cell_type": "markdown",
   "metadata": {},
   "source": [
    "## LGBM classifier with cross validation"
   ]
  },
  {
   "cell_type": "code",
   "execution_count": 7,
   "metadata": {},
   "outputs": [],
   "source": [
    "# Model Train\n",
    "   \n",
    "folds = KFold(n_splits=N_SPLITS, shuffle=True, random_state=SEED)\n",
    "\n",
    "X,y = train_df[features_columns], train_df[target]    \n",
    "P = test_df[features_columns]  \n",
    "\n",
    "predictions = np.zeros(len(test_df))\n",
    "oof = np.zeros(len(train_df))"
   ]
  },
  {
   "cell_type": "code",
   "execution_count": 8,
   "metadata": {},
   "outputs": [
    {
     "data": {
      "text/plain": [
       "0"
      ]
     },
     "execution_count": 8,
     "metadata": {},
     "output_type": "execute_result"
    }
   ],
   "source": [
    "del train_df, test_df, features_columns\n",
    "gc.collect()"
   ]
  },
  {
   "cell_type": "code",
   "execution_count": 9,
   "metadata": {},
   "outputs": [
    {
     "name": "stdout",
     "output_type": "stream",
     "text": [
      "Fold: 1\n",
      "472432 118108\n",
      "Training until validation scores don't improve for 100 rounds\n",
      "[1000]\ttraining's auc: 0.99995\tvalid_1's auc: 0.975296\n",
      "[2000]\ttraining's auc: 1\tvalid_1's auc: 0.978083\n",
      "Early stopping, best iteration is:\n",
      "[2440]\ttraining's auc: 1\tvalid_1's auc: 0.978408\n",
      "Fold: 2\n",
      "472432 118108\n",
      "Training until validation scores don't improve for 100 rounds\n",
      "[1000]\ttraining's auc: 0.999947\tvalid_1's auc: 0.97579\n",
      "[2000]\ttraining's auc: 1\tvalid_1's auc: 0.97875\n",
      "Early stopping, best iteration is:\n",
      "[2532]\ttraining's auc: 1\tvalid_1's auc: 0.979032\n",
      "Fold: 3\n",
      "472432 118108\n",
      "Training until validation scores don't improve for 100 rounds\n",
      "[1000]\ttraining's auc: 0.999948\tvalid_1's auc: 0.974991\n",
      "[2000]\ttraining's auc: 1\tvalid_1's auc: 0.977551\n",
      "Early stopping, best iteration is:\n",
      "[2239]\ttraining's auc: 1\tvalid_1's auc: 0.977722\n",
      "Fold: 4\n",
      "472432 118108\n",
      "Training until validation scores don't improve for 100 rounds\n",
      "[1000]\ttraining's auc: 0.999951\tvalid_1's auc: 0.972903\n",
      "[2000]\ttraining's auc: 1\tvalid_1's auc: 0.975468\n",
      "Early stopping, best iteration is:\n",
      "[2223]\ttraining's auc: 1\tvalid_1's auc: 0.975622\n",
      "Fold: 5\n",
      "472432 118108\n",
      "Training until validation scores don't improve for 100 rounds\n",
      "[1000]\ttraining's auc: 0.999941\tvalid_1's auc: 0.97102\n",
      "[2000]\ttraining's auc: 1\tvalid_1's auc: 0.973683\n",
      "Early stopping, best iteration is:\n",
      "[2208]\ttraining's auc: 1\tvalid_1's auc: 0.97389\n"
     ]
    }
   ],
   "source": [
    "for fold_, (trn_idx, val_idx) in enumerate(folds.split(X, y)):\n",
    "    print('Fold:',fold_+1)\n",
    "    tr_x, tr_y = X.iloc[trn_idx,:], y[trn_idx]\n",
    "    vl_x, vl_y = X.iloc[val_idx,:], y[val_idx]\n",
    "            \n",
    "    print(len(tr_x),len(vl_x))\n",
    "    tr_data = lgb.Dataset(tr_x, label=tr_y)\n",
    "    vl_data = lgb.Dataset(vl_x, label=vl_y)  \n",
    "\n",
    "    estimator = lgb.train(\n",
    "        lgb_params,\n",
    "        tr_data,\n",
    "        valid_sets = [tr_data, vl_data],\n",
    "        verbose_eval = 1000,\n",
    "    )   \n",
    "        \n",
    "    pp_p = estimator.predict(P)\n",
    "    predictions += pp_p/N_SPLITS\n",
    "        \n",
    "    oof_preds = estimator.predict(vl_x)\n",
    "    oof[val_idx] = (oof_preds - oof_preds.min())/(oof_preds.max() - oof_preds.min())\n",
    "        \n",
    "    del tr_x, tr_y, vl_x, vl_y, tr_data, vl_data\n",
    "    gc.collect()"
   ]
  },
  {
   "cell_type": "code",
   "execution_count": 10,
   "metadata": {},
   "outputs": [
    {
     "name": "stdout",
     "output_type": "stream",
     "text": [
      "OOF AUC: 0.9768803636902861\n"
     ]
    }
   ],
   "source": [
    "print('OOF AUC:', metrics.roc_auc_score(y, oof))"
   ]
  },
  {
   "cell_type": "code",
   "execution_count": 11,
   "metadata": {},
   "outputs": [
    {
     "name": "stdout",
     "output_type": "stream",
     "text": [
      "[[569493    384]\n",
      " [  6162  14501]]\n"
     ]
    }
   ],
   "source": [
    "print(metrics.confusion_matrix(y, oof.round()))"
   ]
  },
  {
   "cell_type": "code",
   "execution_count": 12,
   "metadata": {},
   "outputs": [
    {
     "name": "stdout",
     "output_type": "stream",
     "text": [
      "              precision    recall  f1-score   support\n",
      "\n",
      "           0       0.99      1.00      0.99    569877\n",
      "           1       0.97      0.70      0.82     20663\n",
      "\n",
      "    accuracy                           0.99    590540\n",
      "   macro avg       0.98      0.85      0.91    590540\n",
      "weighted avg       0.99      0.99      0.99    590540\n",
      "\n"
     ]
    }
   ],
   "source": [
    "print(metrics.classification_report(y, oof.round()))"
   ]
  },
  {
   "cell_type": "markdown",
   "metadata": {},
   "source": [
    "**Feature importance for LGBM with cross validation**"
   ]
  },
  {
   "cell_type": "code",
   "execution_count": 13,
   "metadata": {},
   "outputs": [
    {
     "data": {
      "image/png": "[encoded data removed]",
      "text/plain": [
       "<Figure size 1440x720 with 1 Axes>"
      ]
     },
     "metadata": {
      "needs_background": "light"
     },
     "output_type": "display_data"
    }
   ],
   "source": [
    "feature_imp = pd.DataFrame(sorted(zip(estimator.feature_importance(),X.columns)), columns=['Value','Feature'])\n",
    "plt.figure(figsize=(20, 10))\n",
    "sns.barplot(x=\"Value\", y=\"Feature\", data=feature_imp.sort_values(by=\"Value\", ascending=False).iloc[:50])\n",
    "plt.title('LGBM with cross validation Most Important Features')\n",
    "plt.tight_layout()\n",
    "plt.show()"
   ]
  },
  {
   "cell_type": "markdown",
   "metadata": {},
   "source": [
    "**Eleventh submission for LGBM with cross validation**"
   ]
  },
  {
   "cell_type": "code",
   "execution_count": 14,
   "metadata": {},
   "outputs": [
    {
     "data": {
      "text/html": [
       "<div>\n",
       "<style scoped>\n",
       "    .dataframe tbody tr th:only-of-type {\n",
       "        vertical-align: middle;\n",
       "    }\n",
       "\n",
       "    .dataframe tbody tr th {\n",
       "        vertical-align: top;\n",
       "    }\n",
       "\n",
       "    .dataframe thead th {\n",
       "        text-align: right;\n",
       "    }\n",
       "</style>\n",
       "<table border=\"1\" class=\"dataframe\">\n",
       "  <thead>\n",
       "    <tr style=\"text-align: right;\">\n",
       "      <th></th>\n",
       "      <th>isFraud</th>\n",
       "    </tr>\n",
       "    <tr>\n",
       "      <th>TransactionID</th>\n",
       "      <th></th>\n",
       "    </tr>\n",
       "  </thead>\n",
       "  <tbody>\n",
       "    <tr>\n",
       "      <th>3663549</th>\n",
       "      <td>0.000101</td>\n",
       "    </tr>\n",
       "    <tr>\n",
       "      <th>3663550</th>\n",
       "      <td>0.000420</td>\n",
       "    </tr>\n",
       "    <tr>\n",
       "      <th>3663551</th>\n",
       "      <td>0.000149</td>\n",
       "    </tr>\n",
       "    <tr>\n",
       "      <th>3663552</th>\n",
       "      <td>0.000135</td>\n",
       "    </tr>\n",
       "    <tr>\n",
       "      <th>3663553</th>\n",
       "      <td>0.000185</td>\n",
       "    </tr>\n",
       "  </tbody>\n",
       "</table>\n",
       "</div>"
      ],
      "text/plain": [
       "                isFraud\n",
       "TransactionID          \n",
       "3663549        0.000101\n",
       "3663550        0.000420\n",
       "3663551        0.000149\n",
       "3663552        0.000135\n",
       "3663553        0.000185"
      ]
     },
     "execution_count": 14,
     "metadata": {},
     "output_type": "execute_result"
    }
   ],
   "source": [
    "submission = pd.read_csv('sample_submission.csv', index_col='TransactionID')\n",
    "submission.isFraud = predictions\n",
    "submission.head()"
   ]
  },
  {
   "cell_type": "code",
   "execution_count": 15,
   "metadata": {},
   "outputs": [
    {
     "data": {
      "image/png": "[encoded data removed]",
      "text/plain": [
       "<Figure size 432x288 with 1 Axes>"
      ]
     },
     "metadata": {
      "needs_background": "light"
     },
     "output_type": "display_data"
    }
   ],
   "source": [
    "plt.hist(submission.isFraud,bins=100)\n",
    "plt.ylim((0,5000))\n",
    "plt.title('LGBM with cross validation submission')\n",
    "plt.show()"
   ]
  },
  {
   "cell_type": "code",
   "execution_count": 16,
   "metadata": {},
   "outputs": [],
   "source": [
    "submission.to_csv('/kaggle/working/lgbm_cv_submission.csv')"
   ]
  }
 ],
 "metadata": {
  "kernelspec": {
   "display_name": "Python 3",
   "language": "python",
   "name": "python3"
  },
  "language_info": {
   "codemirror_mode": {
    "name": "ipython",
    "version": 3
   },
   "file_extension": ".py",
   "mimetype": "text/x-python",
   "name": "python",
   "nbconvert_exporter": "python",
   "pygments_lexer": "ipython3",
   "version": "3.6.6"
  }
 },
 "nbformat": 4,
 "nbformat_minor": 4
}
